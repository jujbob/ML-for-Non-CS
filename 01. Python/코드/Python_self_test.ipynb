{
  "nbformat": 4,
  "nbformat_minor": 0,
  "metadata": {
    "colab": {
      "provenance": [],
      "collapsed_sections": []
    },
    "kernelspec": {
      "name": "python3",
      "display_name": "Python 3"
    },
    "language_info": {
      "name": "python"
    }
  },
  "cells": [
    {
      "cell_type": "markdown",
      "metadata": {
        "id": "y5HdQFjILV6E"
      },
      "source": [
        "## 아래 문제들의 **&&채워보세요&&** 부분의 코드 일부분 혹은 전체 코드를 작성하시오"
      ]
    },
    {
      "cell_type": "markdown",
      "metadata": {
        "id": "gyuSIYqwL55L"
      },
      "source": [
        "### 1. 아래 코드를 완성하시오 (5점)"
      ]
    },
    {
      "cell_type": "code",
      "metadata": {
        "colab": {
          "base_uri": "https://localhost:8080/"
        },
        "id": "m6HArmRcrxa_",
        "outputId": "250bf649-7df2-4bd6-87a6-40005eba7f56"
      },
      "source": [
        "dict_1 = {\n",
        "    \"python\": 0,\n",
        "    \"java\":1,\n",
        "    \"c++\":2,\n",
        "    \"ruby\":3,\n",
        "    \"html\":4,\n",
        "    \"key\":\"value\",\n",
        "}\n",
        "\n",
        "print(dict_1)\n",
        "print(dict_1[\"c++\"])\n",
        "\n",
        "del dict_1[&&채워보세요&&]\n",
        "print(dict_1)\n",
        "\n",
        "dict_1[&&채워보세요&&]=&&채워보세요&&\n",
        "print(dict_1)"
      ],
      "execution_count": null,
      "outputs": [
        {
          "output_type": "stream",
          "name": "stdout",
          "text": [
            "{'python': 0, 'java': 1, 'c++': 2, 'ruby': 3, 'html': 4, 'key': 'value'}\n",
            "2\n",
            "{'python': 0, 'java': 1, 'c++': 2, 'ruby': 3, 'html': 4}\n",
            "{'python': 0, 'java': 1, 'c++': 2, 'ruby': 3, 'html': 4, 'pytorch': 5}\n"
          ]
        }
      ]
    },
    {
      "cell_type": "markdown",
      "metadata": {
        "id": "kkgDvOrywL8P"
      },
      "source": [
        "### 2. 아래의 편의점에서 활용하기 위한 물품-가격 pair를 딕셔너리로 만드시오. (5점)\n",
        "\n",
        "> 물품 : 가격\n",
        "\n",
        "> 삼각김밥 : 1000\n",
        "\n",
        "> 바나나우유 :\t1200\n",
        "\n",
        "> 스프라이트 :\t1800\n",
        "\n",
        "\n",
        "\n"
      ]
    },
    {
      "cell_type": "code",
      "metadata": {
        "colab": {
          "base_uri": "https://localhost:8080/"
        },
        "id": "DTNJZaRisVYt",
        "outputId": "98bbb8d0-ce1d-4942-eb9a-01c79540edec"
      },
      "source": [
        "items = &&채워보세요&&\n",
        "print(items)"
      ],
      "execution_count": null,
      "outputs": [
        {
          "output_type": "stream",
          "name": "stdout",
          "text": [
            "{'삼각김밥': 1000, '바나나우유': 1200, '스프라이트': 1800}\n"
          ]
        }
      ]
    },
    {
      "cell_type": "markdown",
      "metadata": {
        "id": "vvm7xqk2xhCi"
      },
      "source": [
        "### 3. 위의 items에서 바나나우유의 가격을 1400원으로 수정하시오 (5점)"
      ]
    },
    {
      "cell_type": "code",
      "metadata": {
        "colab": {
          "base_uri": "https://localhost:8080/"
        },
        "id": "dFB1Si3yw_9t",
        "outputId": "62bc843a-ba53-49f8-bac8-1135766b5eae"
      },
      "source": [
        "items[&&채워보세요&&] = &&채워보세요&&\n",
        "print(items)"
      ],
      "execution_count": null,
      "outputs": [
        {
          "output_type": "stream",
          "name": "stdout",
          "text": [
            "{'삼각김밥': 1000, '바나나우유': 1400, '스프라이트': 1800}\n"
          ]
        }
      ]
    },
    {
      "cell_type": "markdown",
      "metadata": {
        "id": "10mqcqL7yvUf"
      },
      "source": [
        "### 4. 편의점의 물품 가격에 50%의 마진을 더한 값을 출력하는 margin_price 함수를 정의하라. (5점)"
      ]
    },
    {
      "cell_type": "code",
      "metadata": {
        "colab": {
          "base_uri": "https://localhost:8080/"
        },
        "id": "wjJvRD__xrW2",
        "outputId": "e941d374-3411-4c14-ff35-54af4bcb619d"
      },
      "source": [
        "def margin_price(&&채워보세요&&) :\n",
        "    &&채워보세요&&\n",
        "\n",
        "margin_price(300)"
      ],
      "execution_count": null,
      "outputs": [
        {
          "output_type": "stream",
          "name": "stdout",
          "text": [
            "390.0\n"
          ]
        }
      ]
    },
    {
      "cell_type": "markdown",
      "metadata": {
        "id": "Cr4RjBDXzOpK"
      },
      "source": [
        "### 5. 두 물건의 가격을 입력받아 합한 가격을 반환하는 product_sum 함수를 구현하라 (5점)"
      ]
    },
    {
      "cell_type": "code",
      "metadata": {
        "colab": {
          "base_uri": "https://localhost:8080/"
        },
        "id": "gKAV3VA6zLf2",
        "outputId": "f280d36e-4879-40fa-d8ea-087ccbdbf0f9"
      },
      "source": [
        "def product_sum (&&채워보세요&&):\n",
        "    &&채워보세요&&\n",
        "\n",
        "sum = product_sum(300,200)\n",
        "print(sum)"
      ],
      "execution_count": null,
      "outputs": [
        {
          "output_type": "stream",
          "name": "stdout",
          "text": [
            "500\n"
          ]
        }
      ]
    },
    {
      "cell_type": "markdown",
      "metadata": {
        "id": "lHrZJKzPztDP"
      },
      "source": [
        "### 6. 다음 물품 제고를 위한 dictionary items의 모든 물건의 합을 구하는 product_sum_all함수를 구현하시오 (10점)\n",
        " - 입력: dictionary형 변수\n",
        " - 출력: 입력에 들어있는 모든 물건의 가격합"
      ]
    },
    {
      "cell_type": "code",
      "metadata": {
        "colab": {
          "base_uri": "https://localhost:8080/"
        },
        "id": "FTGapRy1zoXj",
        "outputId": "e6f846e0-d402-4d46-c6bc-7e52212b4bf0"
      },
      "source": [
        "items = {\"삼각김밥\": 1000, \"바나나우유\": 1200, \"스프라이트\": 1800, \"칭따오\": 2500, \"하이네켄\": 3000}\n",
        "def product_sum_all(&&채워보세요&&):\n",
        "  &&채워보세요&&\n",
        "\n",
        "product_sum_all(items)"
      ],
      "execution_count": null,
      "outputs": [
        {
          "output_type": "execute_result",
          "data": {
            "text/plain": [
              "9500"
            ]
          },
          "metadata": {},
          "execution_count": 17
        }
      ]
    },
    {
      "cell_type": "markdown",
      "metadata": {
        "id": "2WtML3R918Q3"
      },
      "source": [
        "### 7. 한개의 dictionary 변수를 입력받아 key 값을 출력하는 key_print 함수를 구현하시오 (5점)"
      ]
    },
    {
      "cell_type": "code",
      "metadata": {
        "colab": {
          "base_uri": "https://localhost:8080/"
        },
        "id": "Yd9O8rYv2MLE",
        "outputId": "555d4366-017e-4122-e18c-2402ce178a71"
      },
      "source": [
        "items = {\"삼각김밥\": 1000, \"바나나우유\": 1200, \"스프라이트\": 1800, \"칭따오\": 2500, \"하이네켄\": 3000}\n",
        "\n",
        "def key_print(&&채워보세요&&):\n",
        "    &&채워보세요&&\n",
        "\n",
        "key_print(items)"
      ],
      "execution_count": null,
      "outputs": [
        {
          "output_type": "stream",
          "name": "stdout",
          "text": [
            "삼각김밥\n",
            "바나나우유\n",
            "스프라이트\n",
            "칭따오\n",
            "하이네켄\n"
          ]
        }
      ]
    },
    {
      "cell_type": "markdown",
      "metadata": {
        "id": "i1rH8HhU1RpU"
      },
      "source": [
        "### 8. 입력된 문자열을 역순으로 반환하는 reverse_str 함수를 정의하라. "
      ]
    },
    {
      "cell_type": "code",
      "metadata": {
        "colab": {
          "base_uri": "https://localhost:8080/"
        },
        "id": "WnrMxZWM0wbO",
        "outputId": "e1b3a939-17e5-49d6-a8a9-ebe7ab113ea9"
      },
      "source": [
        "def reverse_str(&&채워보세요&&) :\n",
        "    &&채워보세요&&\n",
        "\n",
        "out = reverse_str(\"마 내가 느그 스장하고 사우나도 가고 밥도 묵고 다했어마\")\n",
        "print(out)"
      ],
      "execution_count": null,
      "outputs": [
        {
          "output_type": "stream",
          "name": "stdout",
          "text": [
            "마어했다 고묵 도밥 고가 도나우사 고하장스 그느 가내 마\n"
          ]
        }
      ]
    },
    {
      "cell_type": "markdown",
      "metadata": {
        "id": "FP897ROH2w9t"
      },
      "source": [
        "### 9. 문자열을 입력받아 한줄에 n개만큼만 출력하고 줄을 바꿔서 출력하는 함수를 구현하시오. (10점)\n",
        " - 입력: 문자열, n개\n",
        " - 출력: 문자열/n 줄의 출력물"
      ]
    },
    {
      "cell_type": "code",
      "metadata": {
        "colab": {
          "base_uri": "https://localhost:8080/"
        },
        "id": "ETfD1V4D1wWU",
        "outputId": "9e38e116-c1ff-44ca-8641-c701b49f7e4d"
      },
      "source": [
        "def line_spliter(&&채워보세요&&):\n",
        "    &&채워보세요&&\n",
        "\n",
        "line_spliter(\"마내가느그스장하고사우나도가고밥도묵고다했어마\", 3)"
      ],
      "execution_count": null,
      "outputs": [
        {
          "output_type": "stream",
          "name": "stdout",
          "text": [
            "마내가\n",
            "느그스\n",
            "장하고\n",
            "사우나\n",
            "도가고\n",
            "밥도묵\n",
            "고다했\n",
            "어마\n"
          ]
        }
      ]
    },
    {
      "cell_type": "markdown",
      "metadata": {
        "id": "7oAMbapv9voi"
      },
      "source": [
        "### 10. 다음은 임교수가 물린 주식 목록이다. 'stocks.txt' 파일을 생성하고 주식명과 종목코드를 파일에 적는 코드를 작성하시오. (각 라인별 줄바꿈을 고려하세요!!)"
      ]
    },
    {
      "cell_type": "markdown",
      "metadata": {
        "id": "2Z9O9hb9_QsN"
      },
      "source": [
        "주식명 - 구매가격 - 보유량\n",
        "*   선데이토즈 26200 300\n",
        "*   넷마블 116500 400\n",
        "*   엔씨소프트 686000 250\n",
        "*   GS 38450 1000\n",
        "\n"
      ]
    },
    {
      "cell_type": "code",
      "metadata": {
        "id": "uHnNmbyJ3Sds"
      },
      "source": [
        "file_location = \"./stocks.txt\"\n",
        "\n",
        "f = &&채워보세요&&\n",
        "f.close()"
      ],
      "execution_count": null,
      "outputs": []
    },
    {
      "cell_type": "markdown",
      "metadata": {
        "id": "CJ5hWGcP_-8B"
      },
      "source": [
        "### 11. 주식 관리 프로그램을 작성하려고 한다. 아래 주식(Stock) class를 정의하시오. (15점, 개별 1, 2 and 3, 4 각 5점)\n"
      ]
    },
    {
      "cell_type": "markdown",
      "metadata": {
        "id": "kXnhPhWiCkM5"
      },
      "source": [
        "1. init메소드를 활용해서 주식이름(stock_name), 구매가격(stock_buy_price), 구매수량(num_stock)를 초기화 하는 코드를 작성하시오.\n",
        "2. 클래스 내부에 주식의 현재가격(current_stock_price)을 변경하는 set_current_price를 구현하시오\n",
        "3. 클래스 내부에 현재 주식 가격의 변화를 반영하는 up_and_drop_price함수를 구현하시오\n",
        "4. 해당 주식을 판매할 경우 얻을 수 있는 수익을 구하는 함수를 구현하시오."
      ]
    },
    {
      "cell_type": "code",
      "metadata": {
        "id": "jbBTvqz6-T9h"
      },
      "source": [
        "class Stock():\n",
        "  def __init__(&&채워보세요&&):\n",
        "    &&채워보세요&&\n",
        "\n",
        "  def set_current_price(&&채워보세요&&):\n",
        "    &&채워보세요&&\n",
        "\n",
        "  def up_and_drop_price(&&채워보세요&&):\n",
        "    &&채워보세요&&\n",
        "\n",
        "  def profit(&&채워보세요&&):\n",
        "    &&채워보세요&& \n"
      ],
      "execution_count": null,
      "outputs": []
    },
    {
      "cell_type": "markdown",
      "metadata": {
        "id": "nAjRKS0FDavD"
      },
      "source": [
        "### 12. 다음은 임교수가 물린 주식들이다. Stock class를 이용해서 다음과 같이 4종류의 주식을 구매하는 코드를 작성하시오 (객체를 만드시오). 또한 set_current_price함수를 이용해 현재 구매한 가격을 current_stock_price로 설정하시오. (5점)"
      ]
    },
    {
      "cell_type": "markdown",
      "metadata": {
        "id": "APyavbS3EZWj"
      },
      "source": [
        "주식명 - 구매가격 - 보유량\n",
        "*   선데이토즈 26200 300\n",
        "*   넷마블 116500 400\n",
        "*   엔씨소프트 686000 250\n",
        "*   GS 38450 1000"
      ]
    },
    {
      "cell_type": "code",
      "metadata": {
        "id": "LaoylAzqB416"
      },
      "source": [
        "sunday = &&채워보세요&&\n",
        "netmable = &&채워보세요&&\n",
        "ncsoft = &&채워보세요&&\n",
        "gs = &&채워보세요&&\n",
        "sunday.set_current_price(&&채워보세요&&)\n",
        "netmable.set_current_price(&&채워보세요&&)\n",
        "ncsoft.set_current_price(&&채워보세요&&)\n",
        "gs.set_current_price(&&채워보세요&&)"
      ],
      "execution_count": null,
      "outputs": []
    },
    {
      "cell_type": "markdown",
      "metadata": {
        "id": "ovUVgsmZEqpc"
      },
      "source": [
        "### 13. 주식 구매후 하루 자고일어났더니 GS 주식이 10000원 오르고 엔씨소프트 주식이 -20000원 내렸다. Stock class에서 구현한 함수들을 활용해 손익이 얼마가 났는지 계산하시오. (5점)"
      ]
    },
    {
      "cell_type": "code",
      "metadata": {
        "colab": {
          "base_uri": "https://localhost:8080/"
        },
        "id": "hxhcwoteFQ1e",
        "outputId": "8ae94e05-e448-4fea-c4b6-29a89c21a8b5"
      },
      "source": [
        "ncsoft.&&채워보세요&&\n",
        "gs.&&채워보세요&&\n",
        "nc_profit = ncsoft.&&채워보세요&&\n",
        "gs_profit = gs.&&채워보세요&&\n",
        "profit_all = &&채워보세요&&\n",
        "print(profit_all)"
      ],
      "execution_count": null,
      "outputs": [
        {
          "output_type": "stream",
          "name": "stdout",
          "text": [
            "5000000\n"
          ]
        }
      ]
    },
    {
      "cell_type": "markdown",
      "metadata": {
        "id": "eDdLqQHYJwnj"
      },
      "source": [
        "### 14. stocks.txt파일을 읽어 각 주식종목을 Stock class의 인스턴스로 생성하고 이를 stock_list에 저장하는 코드를 구현하시오. (10점)"
      ]
    },
    {
      "cell_type": "code",
      "metadata": {
        "colab": {
          "base_uri": "https://localhost:8080/"
        },
        "id": "R6xo6a7CJHqS",
        "outputId": "88ef4bcc-f78d-4ad0-e04c-39a5c347073d"
      },
      "source": [
        "file_location = \"./stocks.txt\"\n",
        "stock_list = []\n",
        "\n",
        "&&채워보세요&&\n",
        "\n",
        "for stock in stock_list:\n",
        "  print(\"주식명:\", stock.stock_name, \" 주식구매가격:\", stock.stock_buy_price, \" 주식보유개수:\", stock.num_stock)"
      ],
      "execution_count": null,
      "outputs": [
        {
          "output_type": "stream",
          "name": "stdout",
          "text": [
            "주식명: 선데이토즈  주식구매가격: 26200  주식보유개수: 300\n",
            "주식명: 넷마블  주식구매가격: 116500  주식보유개수: 400\n",
            "주식명: 엔씨소프트  주식구매가격: 686000  주식보유개수: 250\n",
            "주식명: GS  주식구매가격: 38450  주식보유개수: 1000\n"
          ]
        }
      ]
    }
  ]
}